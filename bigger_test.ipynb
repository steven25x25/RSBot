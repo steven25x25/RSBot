{
    "cells": [
        {
            "cell_type": "code",
            "execution_count": 3,
            "source": [
                "import numpy as np\r\n",
                "from PIL import Image, ImageFilter\r\n",
                "import matplotlib.pyplot as plt\r\n",
                "\r\n",
                "target_img = Image.open('images\\\\live.jpg')\r\n"
            ],
            "outputs": [],
            "metadata": {}
        },
        {
            "cell_type": "code",
            "execution_count": 4,
            "source": [
                "\r\n",
                "histBins = 64\r\n",
                "\r\n",
                "frame_width_n = 4\r\n",
                "frame_height_n = 2\r\n",
                "\r\n",
                "frame_width = target_img.size[0]//frame_width_n                 #possible problem later taking floor\r\n",
                "frame_height = target_img.size[1]//frame_height_n\r\n",
                "\r\n",
                "\r\n",
                "imgHistArr = np.zeros((frame_width_n,frame_height_n,3,histBins), dtype=int)\r\n",
                "\r\n",
                "callPILHistogram = lambda frame: np.histogram(np.array(frame), bins=histBins)[0]\r\n",
                "\r\n",
                "for i in range(frame_width_n):\r\n",
                "    for j in range(frame_height_n):\r\n",
                "        subImg = target_img.crop((i*frame_width, j*frame_height, (i + 1) * frame_width, (j + 1) * frame_height))\r\n",
                "        subImgChannels = subImg.split()\r\n",
                "     \r\n",
                "        imgHistArr[i][j] = np.array(list(map(callPILHistogram,subImgChannels)))\r\n",
                "\r\n",
                "\r\n"
            ],
            "outputs": [
                {
                    "output_type": "execute_result",
                    "data": {
                        "text/plain": [
                            "array([[[[105396,   1887,   1237, ...,      1,      0,      2],\n",
                            "         [106921,    989,   1266, ...,      2,      1,      2],\n",
                            "         [115678,   5687,  15828, ...,      3,      1,      1]],\n",
                            "\n",
                            "        [[   126,     85,    359, ...,      8,      6,     31],\n",
                            "         [   328,    726,   1794, ...,     10,      7,      9],\n",
                            "         [ 19127,   9232,  23943, ...,     12,      9,     14]]],\n",
                            "\n",
                            "\n",
                            "       [[[ 52039,    600,    940, ...,      0,      0,      1],\n",
                            "         [ 52275,    510,    523, ...,      0,      0,      1],\n",
                            "         [ 61231,   7721,  13456, ...,      0,      0,      1]],\n",
                            "\n",
                            "        [[   114,    367,    725, ...,      5,      9,     10],\n",
                            "         [    72,    295,    642, ...,      6,      2,      6],\n",
                            "         [  7137,  18615,  70241, ...,      3,      4,      5]]],\n",
                            "\n",
                            "\n",
                            "       [[[ 85528,    771,    467, ...,      1,      2,      3],\n",
                            "         [ 85837,    552,    349, ...,      1,      0,      1],\n",
                            "         [ 91795,   6649,  13730, ...,      0,      0,      2]],\n",
                            "\n",
                            "        [[    67,    113,    417, ...,      2,      0,      2],\n",
                            "         [    80,     71,    158, ...,      2,      0,      2],\n",
                            "         [  6911,  15198,  26798, ...,     16,      7,      8]]],\n",
                            "\n",
                            "\n",
                            "       [[[142899,   1789,    666, ...,     58,     44,    173],\n",
                            "         [144475,   1060,    542, ...,     58,     52,    135],\n",
                            "         [147432,   4587,   4413, ...,     46,     30,    102]],\n",
                            "\n",
                            "        [[  7882,    230,    147, ...,      0,      0,      1],\n",
                            "         [  7718,    303,    128, ...,      2,      1,      2],\n",
                            "         [ 17440,   8474,  17889, ...,      2,      2,      1]]]])"
                        ]
                    },
                    "metadata": {},
                    "execution_count": 4
                }
            ],
            "metadata": {}
        }
    ],
    "metadata": {
        "orig_nbformat": 4,
        "language_info": {
            "name": "python",
            "version": "3.8.1",
            "mimetype": "text/x-python",
            "codemirror_mode": {
                "name": "ipython",
                "version": 3
            },
            "pygments_lexer": "ipython3",
            "nbconvert_exporter": "python",
            "file_extension": ".py"
        },
        "kernelspec": {
            "name": "python3",
            "display_name": "Python 3.8.1 64-bit"
        },
        "interpreter": {
            "hash": "2a332ce2ef20ffae999e1daf1fd1ace30d5ff02056ffdd5fef3661ee1a73fbf0"
        }
    },
    "nbformat": 4,
    "nbformat_minor": 2
}